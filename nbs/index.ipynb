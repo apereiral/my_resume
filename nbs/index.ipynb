{
 "cells": [
  {
   "cell_type": "code",
   "execution_count": null,
   "metadata": {},
   "outputs": [],
   "source": [
    "#| hide\n",
    "from my_resume.core import *"
   ]
  },
  {
   "cell_type": "markdown",
   "metadata": {},
   "source": [
    "# my_resume\n",
    "\n",
    "> A quick and visual summary of my career so far."
   ]
  },
  {
   "cell_type": "markdown",
   "metadata": {},
   "source": [
    "## Projects"
   ]
  },
  {
   "cell_type": "markdown",
   "metadata": {},
   "source": [
    "#### Computer Vision algorithms for detecting and mapping anomalies in urban electrigal grids\n",
    "\n",
    "##### Sponsor: [4vants](https://4vants.com.br/)\n",
    "##### Timeline: Jan/2023 - ongoing\n",
    "\n",
    "- Principal Researcher of coordinating a team of 12 to investigate AI solutions for the detection and mapping of assets in urban electrical grids."
   ]
  },
  {
   "cell_type": "markdown",
   "metadata": {},
   "source": [
    "#### Artificial Intelligence for automating the checkout experience in Retail\n",
    "\n",
    "##### Sponsor: [Nextop](https://nextop.com.br/)\n",
    "##### Timeline: Mar/2021 - Mar/2023\n",
    "\n",
    "- Principal Researcher coordinating a team of 10 to investigate AI solutions for the detection, tracking and recognition of products in supermarkets with the goal of developing cashierless options for such stores."
   ]
  },
  {
   "cell_type": "markdown",
   "metadata": {},
   "source": [
    "#### Artificial Intelligence to boost information technology products\n",
    "\n",
    "##### Sponsor: [CyberLabs AI](https://cyberlabs.ai/)\n",
    "##### Timeline: Mar/2020 - Jun/2022\n",
    "\n",
    "- Research consultant in AI solutions for facial detection and recognition, person re-identification and facial spoofing detection.\n",
    "- Overviewed the development of significantly less biased face detection and recognition datasets and SOTA models in the context of the Brazilian population.\n"
   ]
  },
  {
   "cell_type": "markdown",
   "metadata": {},
   "source": [
    "#### Big Data and AI platform for mapping vulnerabilities in urban electrical grids\n",
    "\n",
    "##### Sponsor: [Copel Distribuição S.A.](https://www.copel.com/hpcopel/english/)\n",
    "##### Timeline: Jan/2019 - Jan/2022\n",
    "\n",
    "- Lead AI Researcher in a team of 4 developing solutions for image and lidar point cloud instance segmentation for posts, wire and tree mapping on urban electrical grids.\n",
    "- Developed the algorithm for lidar-camera calibration with the open3d library and overviewed the development of instance segmentation models with the detectron2 library.\n",
    "- Interfaced with the Big Data and the Hardware teams to coordinate the system integration of the pipeline, from data collection, to model training, to model serving with the mapped components of the grids.\n",
    "- Project awarded nationally ([BRACIER](https://www.linkedin.com/feed/update/urn:li:share:6957526277922697216/?utm_source=linkedin_share&utm_medium=member_desktop_share&utm_content=post)) and internationally ([CIER](https://www.cier.org/es-uy/Paginas/Empresas-vencedoras-del-Premio-CIER-de-Innovaci%C3%B3n---Ing--Jos%C3%A9-Vicente-Camargo.aspx))"
   ]
  },
  {
   "cell_type": "markdown",
   "metadata": {},
   "source": [
    "## Awards and Publications"
   ]
  },
  {
   "cell_type": "markdown",
   "metadata": {},
   "source": [
    "#### Paper: Predicting Diabetes Disease Evolution Using Financial Records and Recurrent Neural Networks\n",
    "\n",
    "- Accepted as a digital poster to the NeurIPS 2019 [ML4H Workshop](https://ml4health.github.io/2018/pages/papers.html).\n",
    "- Development done on Pytorch.\n",
    "- Full paper in [arxiv](https://arxiv.org/abs/1811.09350)."
   ]
  },
  {
   "cell_type": "markdown",
   "metadata": {},
   "source": [
    "#### Award: RSNA Pneumonia Detection Challenge\n",
    "\n",
    "- Finished 4th in [Kaggle competition](https://www.kaggle.com/c/rsna-pneumonia-detection-challenge) to detect and locate pneumonia on chest X-rays.\n",
    "- Results published in a poster at the RSNA 2018 conference.\n",
    "- Development done on Keras and Tensorflow.\n"
   ]
  },
  {
   "cell_type": "markdown",
   "metadata": {},
   "source": [
    "#### Award: RSNA Pediatric Bone Age Challenge\n",
    "\n",
    "- Finished 3rd in a contest to determine skeletal age from pediatric hand X-rays.\n",
    "- Developed a novel CNN architecture module, a network with 1% of the size of the other contestants' networks and didn't use any pre-trained weights.\n",
    "- Results published in a poster at the RSNA 2017 conference and in an [article](https://doi.org/10.1148/radiol.2018180736) at the RSNA Radiology Journal.\n",
    "- Development done on Keras and Tensorflow.\n",
    "- [Video](https://www.youtube.com/watch?v=rVnVIxNGR6k&t=2570s) of the talk given during the award ceremony.\n"
   ]
  },
  {
   "cell_type": "markdown",
   "metadata": {},
   "source": [
    "## Education"
   ]
  },
  {
   "cell_type": "markdown",
   "metadata": {},
   "source": [
    "- Universidade Federal de Goiás (UFG), M.S. (2020) and Ph.D. (in progress) in Computer Science, Brazil\n",
    "\n",
    "- Instituto Tecnológico de Aeronáutica (ITA), B.S. (2014) in Electronic Engineering, Brazil\n",
    "\n",
    "- Rose-Hulman Institute of Technology (RHIT), Exchange student (2012-2013) in Computer Engineering, USA\n"
   ]
  }
 ],
 "metadata": {
  "kernelspec": {
   "display_name": "python3",
   "language": "python",
   "name": "python3"
  }
 },
 "nbformat": 4,
 "nbformat_minor": 4
}
